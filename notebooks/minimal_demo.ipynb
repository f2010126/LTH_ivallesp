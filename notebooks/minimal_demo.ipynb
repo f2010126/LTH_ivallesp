{
 "cells": [
  {
   "cell_type": "markdown",
   "metadata": {},
   "source": [
    "# Lottery ticket hypothesis primer"
   ]
  },
  {
   "cell_type": "markdown",
   "metadata": {},
   "source": [
    "The objective of this notebook is to provide a primer on how to implement the Lottery Ticket Hypothesis (LTH) algorithm. We will train a small network in keras and use a bunch of methods to prune the net, reinitialize and retrain the subnetwork."
   ]
  },
  {
   "cell_type": "code",
   "execution_count": 1,
   "metadata": {},
   "outputs": [],
   "source": [
    "%cd .."
   ]
  },
  {
   "cell_type": "code",
   "execution_count": 2,
   "metadata": {},
   "outputs": [],
   "source": [
    "import tensorflow as tf\n",
    "import numpy as np\n",
    "import matplotlib.pyplot as plt\n",
    "import os\n",
    "\n",
    "from src.layers import Linear\n",
    "from src.pruning import prune, magnitude_saliency_criterion, restore_initial_weights"
   ]
  },
  {
   "cell_type": "code",
   "execution_count": 3,
   "metadata": {},
   "outputs": [],
   "source": [
    "# Load MNIST data\n",
    "(X_train, y_train), (X_test, y_test) = tf.keras.datasets.mnist.load_data()"
   ]
  },
  {
   "cell_type": "code",
   "execution_count": 4,
   "metadata": {},
   "outputs": [],
   "source": [
    "# Flatten pixels and convert to float32\n",
    "X_train = X_train.reshape([X_train.shape[0], -1]).astype(np.float32)\n",
    "X_test = X_test.reshape([X_test.shape[0], -1]).astype(np.float32)"
   ]
  },
  {
   "cell_type": "code",
   "execution_count": 5,
   "metadata": {},
   "outputs": [],
   "source": [
    "# Build MLP model\n",
    "model = tf.keras.models.Sequential([Linear(128),\n",
    "                                    Linear(128), \n",
    "                                    Linear(10, activation=tf.nn.softmax)])\n",
    "\n",
    "# Compile\n",
    "model.compile(loss='sparse_categorical_crossentropy', optimizer='adam', metrics=['accuracy'])\n",
    "\n",
    "# Initialize\n",
    "model.build(input_shape=X_train.shape)"
   ]
  },
  {
   "cell_type": "code",
   "execution_count": 6,
   "metadata": {
    "scrolled": true
   },
   "outputs": [],
   "source": [
    "# Store a backup of the initial weights\n",
    "initial_weights_backup = {w.name:w.numpy() for w in model.variables}"
   ]
  },
  {
   "cell_type": "markdown",
   "metadata": {},
   "source": [
    "## Train the network until convergence "
   ]
  },
  {
   "cell_type": "code",
   "execution_count": 7,
   "metadata": {},
   "outputs": [
    {
     "name": "stdout",
     "output_type": "stream",
     "text": [
      "Epoch 1/10\n",
      "1875/1875 [==============================] - 3s 2ms/step - loss: 0.4648 - accuracy: 0.9026 - val_loss: 0.2466 - val_accuracy: 0.9314\n",
      "Epoch 2/10\n",
      "1875/1875 [==============================] - 3s 2ms/step - loss: 0.1696 - accuracy: 0.9508 - val_loss: 0.1749 - val_accuracy: 0.9532\n",
      "Epoch 3/10\n",
      "1875/1875 [==============================] - 3s 2ms/step - loss: 0.1485 - accuracy: 0.9577 - val_loss: 0.1605 - val_accuracy: 0.9554\n",
      "Epoch 4/10\n",
      "1875/1875 [==============================] - 3s 2ms/step - loss: 0.1344 - accuracy: 0.9624 - val_loss: 0.1711 - val_accuracy: 0.9559\n",
      "Epoch 5/10\n",
      "1875/1875 [==============================] - 3s 2ms/step - loss: 0.1221 - accuracy: 0.9666 - val_loss: 0.1625 - val_accuracy: 0.9599\n",
      "Epoch 6/10\n",
      "1875/1875 [==============================] - 3s 2ms/step - loss: 0.1125 - accuracy: 0.9703 - val_loss: 0.1550 - val_accuracy: 0.9600\n",
      "Epoch 7/10\n",
      "1875/1875 [==============================] - 3s 2ms/step - loss: 0.0987 - accuracy: 0.9736 - val_loss: 0.1473 - val_accuracy: 0.9681\n",
      "Epoch 8/10\n",
      "1875/1875 [==============================] - 3s 2ms/step - loss: 0.0924 - accuracy: 0.9753 - val_loss: 0.1527 - val_accuracy: 0.9652\n",
      "Epoch 9/10\n",
      "1875/1875 [==============================] - 4s 2ms/step - loss: 0.0944 - accuracy: 0.9753 - val_loss: 0.1462 - val_accuracy: 0.9682\n",
      "Epoch 10/10\n",
      "1875/1875 [==============================] - 4s 2ms/step - loss: 0.0863 - accuracy: 0.9769 - val_loss: 0.1378 - val_accuracy: 0.9707\n"
     ]
    }
   ],
   "source": [
    "hist_first_train = model.fit(X_train, y_train, epochs=10, validation_data=(X_test, y_test))"
   ]
  },
  {
   "cell_type": "markdown",
   "metadata": {},
   "source": [
    "## Prune the network "
   ]
  },
  {
   "cell_type": "code",
   "execution_count": 8,
   "metadata": {},
   "outputs": [],
   "source": [
    "prune_proportion = 0.90"
   ]
  },
  {
   "cell_type": "code",
   "execution_count": 9,
   "metadata": {},
   "outputs": [],
   "source": [
    "model = prune(model, prune_proportion=prune_proportion, criterion=magnitude_saliency_criterion)"
   ]
  },
  {
   "cell_type": "code",
   "execution_count": 10,
   "metadata": {},
   "outputs": [
    {
     "name": "stdout",
     "output_type": "stream",
     "text": [
      "1875/1875 [==============================] - 2s 1ms/step - loss: 2.2527 - accuracy: 0.2219\n",
      "313/313 [==============================] - 0s 2ms/step - loss: 2.2634 - accuracy: 0.2200\n"
     ]
    }
   ],
   "source": [
    "# Train accuracy before retraining\n",
    "model.evaluate(X_train, y_train);\n",
    "# Test accuracy before retraining\n",
    "model.evaluate(X_test, y_test);"
   ]
  },
  {
   "cell_type": "markdown",
   "metadata": {},
   "source": [
    "## Finetune the subnetwork achieved [optional]"
   ]
  },
  {
   "cell_type": "code",
   "execution_count": 11,
   "metadata": {},
   "outputs": [
    {
     "name": "stdout",
     "output_type": "stream",
     "text": [
      "Epoch 1/10\n",
      "1875/1875 [==============================] - 4s 2ms/step - loss: 0.7032 - accuracy: 0.7727 - val_loss: 0.2908 - val_accuracy: 0.9270\n",
      "Epoch 2/10\n",
      "1875/1875 [==============================] - 4s 2ms/step - loss: 0.1973 - accuracy: 0.9444 - val_loss: 0.1938 - val_accuracy: 0.9490\n",
      "Epoch 3/10\n",
      "1875/1875 [==============================] - 4s 2ms/step - loss: 0.1349 - accuracy: 0.9605 - val_loss: 0.1623 - val_accuracy: 0.9589\n",
      "Epoch 4/10\n",
      "1875/1875 [==============================] - 3s 2ms/step - loss: 0.1062 - accuracy: 0.9682 - val_loss: 0.1563 - val_accuracy: 0.9593\n",
      "Epoch 5/10\n",
      "1875/1875 [==============================] - 3s 2ms/step - loss: 0.0897 - accuracy: 0.9723 - val_loss: 0.1495 - val_accuracy: 0.9645\n",
      "Epoch 6/10\n",
      "1875/1875 [==============================] - 3s 2ms/step - loss: 0.0781 - accuracy: 0.9762 - val_loss: 0.1464 - val_accuracy: 0.9623\n",
      "Epoch 7/10\n",
      "1875/1875 [==============================] - 3s 2ms/step - loss: 0.0685 - accuracy: 0.9789 - val_loss: 0.1406 - val_accuracy: 0.9653\n",
      "Epoch 8/10\n",
      "1875/1875 [==============================] - 3s 2ms/step - loss: 0.0625 - accuracy: 0.9804 - val_loss: 0.1507 - val_accuracy: 0.9635\n",
      "Epoch 9/10\n",
      "1875/1875 [==============================] - 3s 2ms/step - loss: 0.0561 - accuracy: 0.9826 - val_loss: 0.1470 - val_accuracy: 0.9655\n",
      "Epoch 10/10\n",
      "1875/1875 [==============================] - 3s 2ms/step - loss: 0.0516 - accuracy: 0.9842 - val_loss: 0.1579 - val_accuracy: 0.9640\n"
     ]
    }
   ],
   "source": [
    "hist_finetune = model.fit(X_train, y_train, epochs=10, validation_data=(X_test, y_test))"
   ]
  },
  {
   "cell_type": "code",
   "execution_count": 12,
   "metadata": {},
   "outputs": [
    {
     "name": "stdout",
     "output_type": "stream",
     "text": [
      "1875/1875 [==============================] - 2s 962us/step - loss: 0.0400 - accuracy: 0.9875\n",
      "313/313 [==============================] - 0s 1ms/step - loss: 0.1579 - accuracy: 0.9640\n"
     ]
    }
   ],
   "source": [
    "# Train accuracy after retraining\n",
    "model.evaluate(X_train, y_train);\n",
    "# Test accuracy after retraining\n",
    "model.evaluate(X_test, y_test);"
   ]
  },
  {
   "cell_type": "code",
   "execution_count": 13,
   "metadata": {
    "scrolled": true
   },
   "outputs": [
    {
     "name": "stdout",
     "output_type": "stream",
     "text": [
      "Parameter linear/Variable:0 contains 90.00019929846938% null connections\n",
      "Parameter linear/Variable:0_b:0 contains 0.0% null connections\n",
      "Parameter linear/Variable:0_m:0 contains 90.00019929846938% null connections\n",
      "Parameter linear_1/Variable:0 contains 90.00244140625% null connections\n",
      "Parameter linear_1/Variable:0_b:0 contains 0.0% null connections\n",
      "Parameter linear_1/Variable:0_m:0 contains 90.00244140625% null connections\n",
      "Parameter linear_2/Variable:0 contains 90.0% null connections\n",
      "Parameter linear_2/Variable:0_b:0 contains 0.0% null connections\n",
      "Parameter linear_2/Variable:0_m:0 contains 90.0% null connections\n"
     ]
    }
   ],
   "source": [
    "# Check the percentage of zero weights\n",
    "for w in model.variables:\n",
    "    print (f\"Parameter {w.name} contains {(w.numpy()==0).mean()*100}% null connections\")"
   ]
  },
  {
   "cell_type": "markdown",
   "metadata": {},
   "source": [
    "## Reinitialize and train the subnetwork"
   ]
  },
  {
   "cell_type": "code",
   "execution_count": 14,
   "metadata": {},
   "outputs": [],
   "source": [
    "model = restore_initial_weights(model, initial_weights_backup)"
   ]
  },
  {
   "cell_type": "code",
   "execution_count": 15,
   "metadata": {},
   "outputs": [
    {
     "name": "stdout",
     "output_type": "stream",
     "text": [
      "1875/1875 [==============================] - 2s 981us/step - loss: 2.7595 - accuracy: 0.0954\n",
      "313/313 [==============================] - 0s 1ms/step - loss: 2.7662 - accuracy: 0.0896\n"
     ]
    }
   ],
   "source": [
    "# Train accuracy after restoring initial weights\n",
    "model.evaluate(X_train, y_train);\n",
    "# Test accuracy after restoring initial weights\n",
    "model.evaluate(X_test, y_test);"
   ]
  },
  {
   "cell_type": "code",
   "execution_count": 16,
   "metadata": {},
   "outputs": [
    {
     "name": "stdout",
     "output_type": "stream",
     "text": [
      "Epoch 1/10\n",
      "1875/1875 [==============================] - 3s 2ms/step - loss: 0.2817 - accuracy: 0.9152 - val_loss: 0.1469 - val_accuracy: 0.9561\n",
      "Epoch 2/10\n",
      "1875/1875 [==============================] - 3s 2ms/step - loss: 0.1247 - accuracy: 0.9629 - val_loss: 0.1224 - val_accuracy: 0.9645\n",
      "Epoch 3/10\n",
      "1875/1875 [==============================] - 3s 2ms/step - loss: 0.0997 - accuracy: 0.9703 - val_loss: 0.1061 - val_accuracy: 0.9683\n",
      "Epoch 4/10\n",
      "1875/1875 [==============================] - 3s 2ms/step - loss: 0.0825 - accuracy: 0.9744 - val_loss: 0.1094 - val_accuracy: 0.9682\n",
      "Epoch 5/10\n",
      "1875/1875 [==============================] - 3s 2ms/step - loss: 0.0714 - accuracy: 0.9777 - val_loss: 0.1220 - val_accuracy: 0.9656\n",
      "Epoch 6/10\n",
      "1875/1875 [==============================] - 4s 2ms/step - loss: 0.0668 - accuracy: 0.9789 - val_loss: 0.1148 - val_accuracy: 0.9686\n",
      "Epoch 7/10\n",
      "1875/1875 [==============================] - 3s 2ms/step - loss: 0.0581 - accuracy: 0.9814 - val_loss: 0.1201 - val_accuracy: 0.9680\n",
      "Epoch 8/10\n",
      "1875/1875 [==============================] - 3s 2ms/step - loss: 0.0550 - accuracy: 0.9821 - val_loss: 0.1163 - val_accuracy: 0.9704\n",
      "Epoch 9/10\n",
      "1875/1875 [==============================] - 4s 2ms/step - loss: 0.0488 - accuracy: 0.9836 - val_loss: 0.1221 - val_accuracy: 0.9693\n",
      "Epoch 10/10\n",
      "1875/1875 [==============================] - 3s 2ms/step - loss: 0.0459 - accuracy: 0.9849 - val_loss: 0.1249 - val_accuracy: 0.9684\n"
     ]
    }
   ],
   "source": [
    "hist_retrain = model.fit(X_train, y_train, epochs=10, validation_data=(X_test, y_test))"
   ]
  },
  {
   "cell_type": "code",
   "execution_count": 17,
   "metadata": {},
   "outputs": [
    {
     "name": "stdout",
     "output_type": "stream",
     "text": [
      "1875/1875 [==============================] - 2s 963us/step - loss: 0.0331 - accuracy: 0.9893\n",
      "313/313 [==============================] - 0s 1ms/step - loss: 0.1249 - accuracy: 0.9684\n"
     ]
    }
   ],
   "source": [
    "# Train accuracy after retraining from initial weights\n",
    "model.evaluate(X_train, y_train);\n",
    "# Test accuracy after retraining from initial weights\n",
    "model.evaluate(X_test, y_test);"
   ]
  },
  {
   "cell_type": "code",
   "execution_count": 18,
   "metadata": {},
   "outputs": [
    {
     "name": "stdout",
     "output_type": "stream",
     "text": [
      "Parameter linear/Variable:0 contains 90.00019929846938% null connections\n",
      "Parameter linear/Variable:0_b:0 contains 0.0% null connections\n",
      "Parameter linear/Variable:0_m:0 contains 90.00019929846938% null connections\n",
      "Parameter linear_1/Variable:0 contains 90.00244140625% null connections\n",
      "Parameter linear_1/Variable:0_b:0 contains 0.0% null connections\n",
      "Parameter linear_1/Variable:0_m:0 contains 90.00244140625% null connections\n",
      "Parameter linear_2/Variable:0 contains 90.0% null connections\n",
      "Parameter linear_2/Variable:0_b:0 contains 0.0% null connections\n",
      "Parameter linear_2/Variable:0_m:0 contains 90.0% null connections\n"
     ]
    }
   ],
   "source": [
    "# Check the percentage of zero weights\n",
    "for w in model.variables:\n",
    "    print (f\"Parameter {w.name} contains {(w.numpy()==0).mean()*100}% null connections\")"
   ]
  },
  {
   "cell_type": "markdown",
   "metadata": {},
   "source": [
    "## Results"
   ]
  },
  {
   "cell_type": "code",
   "execution_count": 19,
   "metadata": {
    "scrolled": false
   },
   "outputs": [
    {
     "data": {
      "image/png": "[encoded data removed]",
      "text/plain": [
       "<Figure size 1152x432 with 2 Axes>"
      ]
     },
     "metadata": {
      "needs_background": "light"
     },
     "output_type": "display_data"
    }
   ],
   "source": [
    "fig, (ax1, ax2) = plt.subplots(1, 2, figsize=(16, 6))\n",
    "ax1.plot(hist_first_train.history[\"accuracy\"])\n",
    "ax1.plot(hist_retrain.history[\"accuracy\"])\n",
    "ax1.legend([\"First train\", \"Reinit+Retrain\"])\n",
    "ax1.set_title(\"Training set\")\n",
    "\n",
    "ax2.plot(hist_first_train.history[\"val_accuracy\"])\n",
    "ax2.plot(hist_retrain.history[\"val_accuracy\"])\n",
    "ax2.legend([\"First train\", \"Reinit+Retrain\"])\n",
    "ax2.set_title(\"Test set\")\n",
    "\n",
    "plt.show()"
   ]
  }
 ],
 "metadata": {
  "kernelspec": {
   "display_name": "lth",
   "language": "python",
   "name": "lth"
  },
  "language_info": {
   "codemirror_mode": {
    "name": "ipython",
    "version": 3
   },
   "file_extension": ".py",
   "mimetype": "text/x-python",
   "name": "python",
   "nbconvert_exporter": "python",
   "pygments_lexer": "ipython3",
   "version": "3.7.3"
  }
 },
 "nbformat": 4,
 "nbformat_minor": 4
}
